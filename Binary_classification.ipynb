{
  "nbformat": 4,
  "nbformat_minor": 0,
  "metadata": {
    "colab": {
      "name": "Binary_classification.ipynb",
      "provenance": [],
      "collapsed_sections": []
    },
    "kernelspec": {
      "name": "python3",
      "display_name": "Python 3"
    },
    "accelerator": "TPU"
  },
  "cells": [
    {
      "cell_type": "markdown",
      "metadata": {
        "id": "QYJSprjYnQMu",
        "colab_type": "text"
      },
      "source": [
        "## **Contents:**\n",
        "\n",
        "####1. Cleaning/NaN imputation\n",
        "\n",
        "####2. Check dataset imbalance. Multicollinearity. Ideas to for dealing with class imbalance.\n",
        "\n",
        "\n",
        "#### 3. Baseline model:\n",
        "\n",
        "- I won't be dealing assumptions for logistic regression, but will at least plot multicollinearity heatmap;\n",
        "- Fitting Logistic regression with default values;\n",
        "- No data transformations;\n",
        "- No cross-validation;\n",
        "- f1/roc-auc and confusion matrix.\n",
        "\n",
        "#### 4. Improving baseline model with data transformation and SMOTEEN:\n",
        "- Dealing with imbalance via weight tuning for LogReg;\n",
        "- Scaling numerical values (it can help convergence);\n",
        "- Transformation of categoricals to Weight of evidence (often used for LogReg);\n",
        "- Using SMOTEEN;\n",
        "- Checking on holdout set.\n",
        "\n",
        "#### 5. XGBoost.\n",
        "\n",
        "#### 6.Ensembles.\n",
        "\n",
        "#### 7.Possible improvements for future."
      ]
    },
    {
      "cell_type": "code",
      "metadata": {
        "id": "0BTaBQXFApPP",
        "colab_type": "code",
        "cellView": "form",
        "colab": {}
      },
      "source": [
        "#@title\n",
        "!apt-get install -y -qq software-properties-common python-software-properties module-init-tools\n",
        "!add-apt-repository -y ppa:alessandro-strada/ppa 2>&1 > /dev/null\n",
        "!apt-get update -qq 2>&1 > /dev/null\n",
        "!apt-get -y install -qq google-drive-ocamlfuse fuse\n",
        "from google.colab import auth\n",
        "auth.authenticate_user()\n",
        "from oauth2client.client import GoogleCredentials\n",
        "creds = GoogleCredentials.get_application_default()\n",
        "import getpass\n",
        "!google-drive-ocamlfuse -headless -id={creds.client_id} -secret={creds.client_secret} < /dev/null 2>&1 | grep URL\n",
        "vcode = getpass.getpass()\n",
        "!echo {vcode} | google-drive-ocamlfuse -headless -id={creds.client_id} -secret={creds.client_secret}\n",
        "!mkdir -p drive\n",
        "!google-drive-ocamlfuse drive\n",
        "from google.colab import drive\n",
        "drive.mount('/content/drive')\n"
      ],
      "execution_count": 0,
      "outputs": []
    },
    {
      "cell_type": "code",
      "metadata": {
        "id": "qjEqdmF5qLLu",
        "colab_type": "code",
        "cellView": "form",
        "colab": {}
      },
      "source": [
        "#@title\n",
        "!pip install scikit-plot\n",
        "!pip install category_encoders\n",
        "!pip install vecstack"
      ],
      "execution_count": 0,
      "outputs": []
    },
    {
      "cell_type": "code",
      "metadata": {
        "id": "er_aOJ5gf5LL",
        "colab_type": "code",
        "colab": {}
      },
      "source": [
        "import os\n",
        "os.chdir('drive/My Drive/test_task')"
      ],
      "execution_count": 0,
      "outputs": []
    },
    {
      "cell_type": "markdown",
      "metadata": {
        "id": "lGpex6w8IwFt",
        "colab_type": "text"
      },
      "source": [
        "**1. Importing / Cleaning data**"
      ]
    },
    {
      "cell_type": "code",
      "metadata": {
        "id": "cEvAJMzZWybr",
        "colab_type": "code",
        "colab": {}
      },
      "source": [
        "import warnings\n",
        "warnings.filterwarnings(\"ignore\")\n",
        "from google.colab import files\n",
        "\n",
        "import pandas as pd\n",
        "import numpy as np\n",
        "import matplotlib.pyplot as plt\n",
        "import seaborn as sns\n",
        "\n",
        "from sklearn.model_selection import train_test_split\n",
        "from sklearn.preprocessing import StandardScaler, FunctionTransformer\n",
        "from sklearn.impute import SimpleImputer\n",
        "from sklearn.compose import ColumnTransformer\n",
        "from sklearn.pipeline import Pipeline,make_pipeline\n",
        "from sklearn.metrics import roc_auc_score,auc\n",
        "from imblearn.combine import SMOTEENN \n",
        "from xgboost import XGBClassifier\n",
        "from imblearn.metrics import sensitivity_score\n",
        "from sklearn.metrics import balanced_accuracy_score\n",
        "\n",
        "from scikitplot.metrics import plot_confusion_matrix\n",
        "from sklearn.model_selection import RandomizedSearchCV, GridSearchCV \n",
        "from pprint import pprint\n",
        "from sklearn.linear_model import LogisticRegression\n",
        "from sklearn.metrics import make_scorer, precision_score, recall_score, f1_score, roc_auc_score,average_precision_score\n",
        "from sklearn import metrics\n",
        "#from sklearn.metrics import precision_recall_curve\n",
        "#from sklearn.metrics import plot_precision_recall_curve\n",
        "\n",
        "from sklearn.model_selection import cross_validate\n",
        "import category_encoders\n",
        "\n",
        "from sklearn_pandas import DataFrameMapper, cross_val_score\n",
        "from sklearn.base import TransformerMixin,BaseEstimator\n",
        "from imblearn.pipeline import Pipeline as imb_Pipeline\n",
        "\n"
      ],
      "execution_count": 0,
      "outputs": []
    },
    {
      "cell_type": "code",
      "metadata": {
        "id": "jNsPIDQOrAQF",
        "colab_type": "code",
        "colab": {}
      },
      "source": [
        "df = pd.read_csv('train_df.csv',sep='\\t')\n",
        "df.drop('Unnamed: 0',axis=1,inplace=True)"
      ],
      "execution_count": 0,
      "outputs": []
    },
    {
      "cell_type": "markdown",
      "metadata": {
        "id": "DQ8hyqyIGDdV",
        "colab_type": "text"
      },
      "source": [
        "Before building any baseline model we have to check whether we have raw categorical variables, encode them if such exist."
      ]
    },
    {
      "cell_type": "code",
      "metadata": {
        "id": "f4Iw00VYGFpT",
        "colab_type": "code",
        "outputId": "cb363cbe-d1e7-4641-cdf5-3a5bfc299ff2",
        "colab": {
          "base_uri": "https://localhost:8080/",
          "height": 36
        }
      },
      "source": [
        "#Check whether there are any unencoded categories in our dataset\n",
        "print(len(df.select_dtypes(include=['category','object']).columns.tolist()))"
      ],
      "execution_count": 0,
      "outputs": [
        {
          "output_type": "stream",
          "text": [
            "0\n"
          ],
          "name": "stdout"
        }
      ]
    },
    {
      "cell_type": "markdown",
      "metadata": {
        "id": "uqvy4FEvSWaz",
        "colab_type": "text"
      },
      "source": [
        "Let's delete those variable (columns) that consist of only one value and 'id':"
      ]
    },
    {
      "cell_type": "code",
      "metadata": {
        "id": "e-abnb_kSeYI",
        "colab_type": "code",
        "colab": {}
      },
      "source": [
        "#looping through columns to find features with only one value:\n",
        "unit_features = []\n",
        "for col in df.columns:\n",
        "  #select features with one value(including NaN's)\n",
        "  if df[col].nunique(dropna=False)==1:\n",
        "    unit_features.append(col)\n",
        "#delete such features\n",
        "df.drop(unit_features,axis=1,inplace=True)\n",
        "#delete id feature, as it doesn't provide us useful information for modelling (actually can cause data leakage)\n",
        "df.drop('id',axis=1,inplace=True)"
      ],
      "execution_count": 0,
      "outputs": []
    },
    {
      "cell_type": "markdown",
      "metadata": {
        "id": "ZduvyjbRqE9i",
        "colab_type": "text"
      },
      "source": [
        "There are in general few approaches for dealing with NaN values, depending on whether NaNs are random but I will go for the most simple approach due to the lack of time:\n",
        "\n",
        "1) deleting  variables, where 80 % are NaNs, which is one of possible(though, not the best) methods to reduce dimensionality.\n",
        "\n",
        "2) filling all missing values with zero."
      ]
    },
    {
      "cell_type": "code",
      "metadata": {
        "id": "Tv9cHgDN9Sdn",
        "colab_type": "code",
        "colab": {}
      },
      "source": [
        "cols = df.columns[df.isnull().mean() < 0.8]"
      ],
      "execution_count": 0,
      "outputs": []
    },
    {
      "cell_type": "code",
      "metadata": {
        "id": "JR7kNSh07QsP",
        "colab_type": "code",
        "colab": {}
      },
      "source": [
        "df = df[cols]\n",
        "X=df.drop('gb',axis=1).copy()\n",
        "X.fillna(0,axis=1,inplace=True)\n",
        "y=df['gb'].copy()"
      ],
      "execution_count": 0,
      "outputs": []
    },
    {
      "cell_type": "markdown",
      "metadata": {
        "id": "nlKl0fue91_3",
        "colab_type": "text"
      },
      "source": [
        "Let's check number of numerical and categorical columns:"
      ]
    },
    {
      "cell_type": "code",
      "metadata": {
        "id": "xihp3VJ89MIC",
        "colab_type": "code",
        "outputId": "4363076b-b563-4944-cc5a-94ae159094e4",
        "colab": {
          "base_uri": "https://localhost:8080/",
          "height": 109
        }
      },
      "source": [
        "df_cols = df.drop('gb',axis=1).columns.tolist()\n",
        "print('Total X_cols len:',len(df_cols))\n",
        "print('')\n",
        "num_cols = df.filter(like='num').columns.tolist()\n",
        "print('Numerical cols len:',len(num_cols))\n",
        "print('')\n",
        "cat_cols = df.filter(like='cat').columns.tolist()\n",
        "print('Categorical cols len:',len(cat_cols))\n",
        "\n"
      ],
      "execution_count": 0,
      "outputs": [
        {
          "output_type": "stream",
          "text": [
            "Total X_cols len: 404\n",
            "\n",
            "Numerical cols len: 269\n",
            "\n",
            "Categorical cols len: 135\n"
          ],
          "name": "stdout"
        }
      ]
    },
    {
      "cell_type": "markdown",
      "metadata": {
        "id": "mvxfKoLhkknR",
        "colab_type": "text"
      },
      "source": [
        "We have a lot of features, which means that our models will probably overfit. We can try l2/l1 norm or feature selection in future."
      ]
    },
    {
      "cell_type": "markdown",
      "metadata": {
        "id": "c7hZIr-Brt8H",
        "colab_type": "text"
      },
      "source": [
        "#### **2. Distribution of target binary values**"
      ]
    },
    {
      "cell_type": "code",
      "metadata": {
        "id": "Dr4f-QafrrU-",
        "colab_type": "code",
        "outputId": "dc175459-5d5e-46c5-e4a0-e7906d8d9212",
        "colab": {
          "base_uri": "https://localhost:8080/",
          "height": 371
        }
      },
      "source": [
        "#check distribution of dependent variable\n",
        "print(df.gb.value_counts(normalize=True))\n",
        "df.gb.value_counts(normalize=True).plot(kind='bar')\n",
        "plt.show()"
      ],
      "execution_count": 0,
      "outputs": [
        {
          "output_type": "stream",
          "text": [
            "0    0.977893\n",
            "1    0.022107\n",
            "Name: gb, dtype: float64\n"
          ],
          "name": "stdout"
        },
        {
          "output_type": "display_data",
          "data": {
            "image/png": "[encoded data removed]",
            "text/plain": [
              "<Figure size 720x360 with 1 Axes>"
            ]
          },
          "metadata": {
            "tags": []
          }
        }
      ]
    },
    {
      "cell_type": "markdown",
      "metadata": {
        "id": "ECpOo3znsHGd",
        "colab_type": "text"
      },
      "source": [
        "**Conclusion:** \n",
        "\n",
        "Dataset target variable distribution is imbalanced. Our main metrics for classifiers will be F1-Score/ROC-AUC/Average precision score. We always should look also at confusion matrix, as it's sometimes a matter of tradeoff between various kinds of error rates. \n",
        "\n",
        "Other ideas:\n",
        "\n",
        "- Logistic regression with weights;\n",
        "- Undersampling/oversampling procedures;\n",
        "- Balanced XGBoost\n",
        "- Ensemble."
      ]
    },
    {
      "cell_type": "markdown",
      "metadata": {
        "id": "clefmEfKH5Li",
        "colab_type": "text"
      },
      "source": [
        "We will check on multicollinearity with condition number, as out matrix is too huge to do heatmap:\n"
      ]
    },
    {
      "cell_type": "code",
      "metadata": {
        "id": "lnHrs-eDHNpt",
        "colab_type": "code",
        "outputId": "8c4bb728-22f6-458f-9954-78c31a93a987",
        "colab": {
          "base_uri": "https://localhost:8080/",
          "height": 36
        }
      },
      "source": [
        "np.linalg.cond(X)"
      ],
      "execution_count": 0,
      "outputs": [
        {
          "output_type": "execute_result",
          "data": {
            "text/plain": [
              "5.237360551072806e+43"
            ]
          },
          "metadata": {
            "tags": []
          },
          "execution_count": 289
        }
      ]
    },
    {
      "cell_type": "markdown",
      "metadata": {
        "id": "gj0DpIKIIPzE",
        "colab_type": "text"
      },
      "source": [
        "Condition number is huge, which means that data is highly correlated, which not a surprise, given its relative sparcity and feature dimensionality."
      ]
    },
    {
      "cell_type": "markdown",
      "metadata": {
        "id": "R5vyZxsLsJi4",
        "colab_type": "text"
      },
      "source": [
        "#### **3. Baseline model - Logistic regression**\n",
        "\n",
        "It is often used in scoring tasks, given its interpretability:"
      ]
    },
    {
      "cell_type": "markdown",
      "metadata": {
        "id": "GfHZCmbis0ln",
        "colab_type": "text"
      },
      "source": [
        "We will do our cross-validation mainly on training set and use our holdout set only for the final test before plotting confusion matrix and deciding on our final model."
      ]
    },
    {
      "cell_type": "code",
      "metadata": {
        "id": "P-E_1dGeWgZv",
        "colab_type": "code",
        "colab": {}
      },
      "source": [
        "X_train, X_holdout, y_train, y_holdout = train_test_split(X, y, random_state=42, test_size=0.1)"
      ],
      "execution_count": 0,
      "outputs": []
    },
    {
      "cell_type": "markdown",
      "metadata": {
        "id": "t1GbTwjO13x0",
        "colab_type": "text"
      },
      "source": [
        "Creating function to show test results and confusion matrix:"
      ]
    },
    {
      "cell_type": "code",
      "metadata": {
        "id": "sU-zkm5_2E0e",
        "colab_type": "code",
        "colab": {}
      },
      "source": [
        "def show_results(model,numpy_arr=False):\n",
        "  '''\n",
        "  numpy_arr - whether we are using numpy array or raw Dataframe as our holdout set \n",
        "  (this needs to be established for our pipeline with over/undersampling method)\n",
        "  '''\n",
        "  if numpy_arr==True:\n",
        "    pred_prob = model.predict_proba(X_holdout.values)[:,1]\n",
        "    pred_val = model.predict(X_holdout.values) \n",
        "  else: \n",
        "    pred_prob = model.predict_proba(X_holdout)[:,1]\n",
        "    pred_val = model.predict(X_holdout)\n",
        "  print('Roc_AUC:',roc_auc_score(y_holdout, pred_prob))\n",
        "  print('F1_Score:',f1_score(y_holdout, pred_val))\n",
        "  print('Recall:',recall_score(y_holdout, pred_val,average='weighted'))\n",
        "  print('Average precision score:',average_precision_score(y_holdout, pred_prob))\n",
        "  #Confusion matrix\n",
        "  plot_confusion_matrix(y_holdout, pred_val, normalize=True)\n",
        "  plt.show()"
      ],
      "execution_count": 0,
      "outputs": []
    },
    {
      "cell_type": "code",
      "metadata": {
        "id": "vkSo7SgKtKNU",
        "colab_type": "code",
        "colab": {}
      },
      "source": [
        "logreg_base = LogisticRegression(random_state=42,solver='lbfgs')\n",
        "model = logreg_base.fit(X_train, y_train)"
      ],
      "execution_count": 0,
      "outputs": []
    },
    {
      "cell_type": "code",
      "metadata": {
        "id": "f8Ytpglh2lmZ",
        "colab_type": "code",
        "outputId": "1b343375-7b59-4956-bea8-7f12d0b54f37",
        "colab": {
          "base_uri": "https://localhost:8080/",
          "height": 368
        }
      },
      "source": [
        "show_results(model)"
      ],
      "execution_count": 0,
      "outputs": [
        {
          "output_type": "stream",
          "text": [
            "Roc_AUC: 0.5538776095846187\n",
            "F1_Score: 0.02030456852791878\n",
            "Recall: 0.9280655982109579\n",
            "Average precision score: 0.02172272064148509\n"
          ],
          "name": "stdout"
        },
        {
          "output_type": "display_data",
          "data": {
            "image/png": "[encoded data removed]",
            "text/plain": [
              "<Figure size 432x288 with 2 Axes>"
            ]
          },
          "metadata": {
            "tags": []
          }
        }
      ]
    },
    {
      "cell_type": "markdown",
      "metadata": {
        "id": "7pN7HbH9uCO2",
        "colab_type": "text"
      },
      "source": [
        "**Conclusion:**\n",
        "\n",
        "It seems like we are wrong practically every time on prediction of positive value. That's undertandable, given above-plotted distribution on target values."
      ]
    },
    {
      "cell_type": "markdown",
      "metadata": {
        "id": "CmVbcPIRudW2",
        "colab_type": "text"
      },
      "source": [
        "#### **4. Logistic Regression with weights and data transformation:**"
      ]
    },
    {
      "cell_type": "markdown",
      "metadata": {
        "id": "x4kU-Nxkw4cg",
        "colab_type": "text"
      },
      "source": [
        "#####Data transformation :\n",
        "\n",
        "- Scaling numerical features (can help with convergence and interpretation);\n",
        "\n",
        "- Applying Weight of evidence transformation to categorical features (it is used vastly in practice exactly with LogReg).\n",
        "\n",
        "\n"
      ]
    },
    {
      "cell_type": "code",
      "metadata": {
        "id": "ZpOqezx0WyIH",
        "colab_type": "code",
        "colab": {}
      },
      "source": [
        "#weight of evidence transformation\n",
        "woe = category_encoders.woe.WOEEncoder(random_state=42,cols=cat_cols)\n",
        "\n",
        "#scaling\n",
        "scaler = StandardScaler()\n",
        "\n",
        "#creating transformers for pipeline\n",
        "numeric_transformer = Pipeline(steps=[\n",
        "    ('scaler', scaler)])\n",
        "\n",
        "categorical_transformer = Pipeline(steps=[\n",
        "  ('woe', woe)\n",
        "  ])\n",
        "\n",
        "preprocessor = ColumnTransformer(\n",
        "    transformers=[         \n",
        "        ('num', numeric_transformer, num_cols),\n",
        "        ('cat', categorical_transformer, cat_cols)])#,remainder='passthrough')\n"
      ],
      "execution_count": 0,
      "outputs": []
    },
    {
      "cell_type": "markdown",
      "metadata": {
        "id": "4pb_DmpwxxF3",
        "colab_type": "text"
      },
      "source": [
        "Defining metrics to use in cross-validation:"
      ]
    },
    {
      "cell_type": "code",
      "metadata": {
        "id": "3OS7UeoKxwkQ",
        "colab_type": "code",
        "colab": {}
      },
      "source": [
        "scoring = {'roc_auc' : make_scorer(roc_auc_score),  \n",
        "           'f1_score' : make_scorer(f1_score),\n",
        "           'average_precision_recall':make_scorer(average_precision_score)\n",
        "           }"
      ],
      "execution_count": 0,
      "outputs": []
    },
    {
      "cell_type": "markdown",
      "metadata": {
        "id": "oNg4pjumyiAj",
        "colab_type": "text"
      },
      "source": [
        "We will use 1:90 balance in weights, given our ratio in real data.Let's create pipeline which includes our transformation and classifier. "
      ]
    },
    {
      "cell_type": "code",
      "metadata": {
        "id": "DVcOWo5zx3Mw",
        "colab_type": "code",
        "colab": {}
      },
      "source": [
        "logreg = LogisticRegression(random_state=42,solver='lbfgs',class_weight={0:1,1:90})\n",
        "clf_lr = Pipeline(steps=[\n",
        "                 ('preprocessor', preprocessor),\n",
        "                 ('classifier', logreg)\n",
        "                 ])"
      ],
      "execution_count": 0,
      "outputs": []
    },
    {
      "cell_type": "markdown",
      "metadata": {
        "id": "fvii_Y-Nys74",
        "colab_type": "text"
      },
      "source": [
        "It will be used to every training fold in cross-validation loop:\n"
      ]
    },
    {
      "cell_type": "code",
      "metadata": {
        "id": "R2UIsv2daoww",
        "colab_type": "code",
        "outputId": "9c7fa561-d058-4296-e9a6-d366144329e0",
        "colab": {
          "base_uri": "https://localhost:8080/",
          "height": 72
        }
      },
      "source": [
        "scores = cross_validate(clf_lr, X_train, y_train, cv=10,scoring=scoring,n_jobs=-1)\n",
        "print('Mean cross-val Roc_AUC:',np.mean(scores['test_roc_auc']))\n",
        "print('Mean cross-val F1-score:',np.mean(scores['test_f1_score']))\n",
        "print('Mean cross-val average_precision_recall:',np.mean(scores['test_average_precision_recall']))"
      ],
      "execution_count": 0,
      "outputs": [
        {
          "output_type": "stream",
          "text": [
            "Mean cross-val Roc_AUC: 0.8976480189297045\n",
            "Mean cross-val F1-score: 0.358305610856262\n",
            "Mean cross-val average_precision_recall: 0.19883226668786155\n"
          ],
          "name": "stdout"
        }
      ]
    },
    {
      "cell_type": "markdown",
      "metadata": {
        "id": "e0r9gnDZKtaU",
        "colab_type": "text"
      },
      "source": [
        "Our metrics are much better now! Let's see final results for our holdout set after using all training set:"
      ]
    },
    {
      "cell_type": "code",
      "metadata": {
        "id": "xSHgwaY8K1kT",
        "colab_type": "code",
        "outputId": "277ca0cf-f2d0-4a66-f28a-7cc13df42c40",
        "colab": {
          "base_uri": "https://localhost:8080/",
          "height": 368
        }
      },
      "source": [
        "model = clf_lr.fit(X_train, y_train)\n",
        "show_results(model)"
      ],
      "execution_count": 0,
      "outputs": [
        {
          "output_type": "stream",
          "text": [
            "Roc_AUC: 0.9752421264079203\n",
            "F1_Score: 0.35114503816793896\n",
            "Recall: 0.9366380916884085\n",
            "Average precision score: 0.5751169364381603\n"
          ],
          "name": "stdout"
        },
        {
          "output_type": "display_data",
          "data": {
            "image/png": "[encoded data removed]",
            "text/plain": [
              "<Figure size 432x288 with 2 Axes>"
            ]
          },
          "metadata": {
            "tags": []
          }
        }
      ]
    },
    {
      "cell_type": "markdown",
      "metadata": {
        "id": "ofkv4FC3LT83",
        "colab_type": "text"
      },
      "source": [
        "We are doing a lot better now. Our true positive rate now is 87% versus 4% of baseline model. Let's try further improve model by combination of over/undersampling."
      ]
    },
    {
      "cell_type": "markdown",
      "metadata": {
        "id": "FUnQ90MoaKMh",
        "colab_type": "text"
      },
      "source": [
        "### Combination of over/undersampling - SMOTEEN"
      ]
    },
    {
      "cell_type": "markdown",
      "metadata": {
        "id": "Qgi3vJUn6SnB",
        "colab_type": "text"
      },
      "source": [
        "Over/under-sampling techniques are often used in order to solve imbalanced target variable problem. We will try to improve our above model with combination of those,called SMOTEEN."
      ]
    },
    {
      "cell_type": "markdown",
      "metadata": {
        "id": "-TRW4kA24XlA",
        "colab_type": "text"
      },
      "source": [
        "But because SMOTEEN is a first step of our pipeline and returns only numpy array, we now need to rebuild our pipeline, so that our following data transformations in pipeline refer to column indexes instead of column strings. "
      ]
    },
    {
      "cell_type": "code",
      "metadata": {
        "id": "q_exk3v34V6w",
        "colab_type": "code",
        "colab": {}
      },
      "source": [
        "#extract indexes of categoricals and numericals\n",
        "idx_num = np.where(X.columns.map(lambda x: x.startswith('num')))[0]\n",
        "idx_cat = np.where(X.columns.map(lambda x: x.startswith('cat')))[0]\n",
        "\n",
        "#woe with indexes instead of strings\n",
        "woe = category_encoders.woe.WOEEncoder(random_state=42,cols=idx_cat)\n",
        "\n",
        "#standard scaler with indexes instead of strings\n",
        "preprocessor = ColumnTransformer(\n",
        "    transformers=[                   \n",
        "        ('num', StandardScaler(), idx_num)\n",
        "        ], remainder='passthrough')"
      ],
      "execution_count": 0,
      "outputs": []
    },
    {
      "cell_type": "markdown",
      "metadata": {
        "id": "bS18XshhE8yF",
        "colab_type": "text"
      },
      "source": [
        "We will add SMOTEEN method to our pipeline using 'Pipeline' object from imblearn. We will also change (reduce) our class weight on positive class from 1:90 to at least 1:20 (but still not to 'balanced' as method works somewhat 'artificially' in vector space) after using SMOTEEN method."
      ]
    },
    {
      "cell_type": "code",
      "metadata": {
        "id": "4ndHOLPXUXn0",
        "colab_type": "code",
        "colab": {}
      },
      "source": [
        "smoteen_pipe = imb_Pipeline([\n",
        "     ('smo', SMOTEENN(random_state=42)),\n",
        "     ('woe', woe),\n",
        "     ('pre', preprocessor),\n",
        "     ('lr', LogisticRegression(random_state=42,solver='lbfgs',class_weight={0:1,1:20}) ),\n",
        "\n",
        " ])"
      ],
      "execution_count": 0,
      "outputs": []
    },
    {
      "cell_type": "markdown",
      "metadata": {
        "id": "R4znYVHZFOpS",
        "colab_type": "text"
      },
      "source": [
        "Let's make a cross-validation:"
      ]
    },
    {
      "cell_type": "code",
      "metadata": {
        "id": "_yCCi-ES8TYH",
        "colab_type": "code",
        "outputId": "975f03a2-45cc-40b0-9145-573af8a74f54",
        "colab": {
          "base_uri": "https://localhost:8080/",
          "height": 72
        }
      },
      "source": [
        "scores = cross_validate(smoteen_pipe, X_train.values, y_train.values, cv=5,scoring=scoring,n_jobs=-1)\n",
        "print('Mean cross-val Roc_AUC:',np.mean(scores['test_roc_auc']))\n",
        "print('Mean cross-val F1-score:',np.mean(scores['test_f1_score']))\n",
        "print('Mean cross-val average_precision_recall:',np.mean(scores['test_average_precision_recall']))"
      ],
      "execution_count": 0,
      "outputs": [
        {
          "output_type": "stream",
          "text": [
            "Mean cross-val Roc_AUC: 0.8979721733893771\n",
            "Mean cross-val F1-score: 0.5038940011660704\n",
            "Mean cross-val average_precision_recall: 0.3044694302755473\n"
          ],
          "name": "stdout"
        }
      ]
    },
    {
      "cell_type": "markdown",
      "metadata": {
        "id": "Y6SJbt0CFaAQ",
        "colab_type": "text"
      },
      "source": [
        "We see that our F1-score and average-precision recall results are significantly improved."
      ]
    },
    {
      "cell_type": "markdown",
      "metadata": {
        "id": "eivQP4qxFSOX",
        "colab_type": "text"
      },
      "source": [
        "Let's test model on our holdout set:"
      ]
    },
    {
      "cell_type": "code",
      "metadata": {
        "id": "fczy50bo8f0c",
        "colab_type": "code",
        "outputId": "ba1fa70e-bbaa-4c3d-ae84-4d922652838f",
        "colab": {
          "base_uri": "https://localhost:8080/",
          "height": 423
        }
      },
      "source": [
        "model_smo = smoteen_pipe.fit(X_train.values, y_train.values)\n",
        "#check model on holdout\n",
        "show_results(model_smo,numpy_arr=True)"
      ],
      "execution_count": 0,
      "outputs": [
        {
          "output_type": "stream",
          "text": [
            "Roc_AUC: 0.9844106463878328\n",
            "F1_Score: 0.5222222222222223\n",
            "Recall: 0.967946328736489\n",
            "Average precision score: 0.6829350587451093\n"
          ],
          "name": "stdout"
        },
        {
          "output_type": "display_data",
          "data": {
            "image/png": "[encoded data removed]",
            "text/plain": [
              "<Figure size 720x360 with 2 Axes>"
            ]
          },
          "metadata": {
            "tags": []
          }
        }
      ]
    },
    {
      "cell_type": "markdown",
      "metadata": {
        "id": "0BiOQKXqH02r",
        "colab_type": "text"
      },
      "source": [
        "We have improved our true positive and true negative rate with just randomly trying SMOTEEN. "
      ]
    },
    {
      "cell_type": "markdown",
      "metadata": {
        "id": "IfVmOxOaWWUM",
        "colab_type": "text"
      },
      "source": [
        "Let's see feature importances by considering magnitude of feature coefficient times the standard deviation of the corresponding parameter in the data. Note that we have multicorrelated data, so this results don't seem to be very reliable."
      ]
    },
    {
      "cell_type": "code",
      "metadata": {
        "id": "1W6orGICnVJZ",
        "colab_type": "code",
        "outputId": "4d32e5a2-068d-4b4a-915a-af5e08d99f17",
        "colab": {
          "base_uri": "https://localhost:8080/",
          "height": 367
        }
      },
      "source": [
        "pd.Series(np.std(X_train, 0)*model_smo.named_steps['lr'].coef_[0]).sort_values(ascending=False)[:20].plot(kind='bar')\n",
        "plt.show()"
      ],
      "execution_count": 0,
      "outputs": [
        {
          "output_type": "display_data",
          "data": {
            "image/png": "[encoded data removed]",
            "text/plain": [
              "<Figure size 720x360 with 1 Axes>"
            ]
          },
          "metadata": {
            "tags": []
          }
        }
      ]
    },
    {
      "cell_type": "markdown",
      "metadata": {
        "id": "cxI5kHgnYpEb",
        "colab_type": "text"
      },
      "source": [
        "We won't use Grid-Search as this will take days to finish with SMOTEEN."
      ]
    },
    {
      "cell_type": "markdown",
      "metadata": {
        "id": "VhLmqpqgtzru",
        "colab_type": "text"
      },
      "source": [
        "### Grid-search XGBoost params for imbalanced data:"
      ]
    },
    {
      "cell_type": "markdown",
      "metadata": {
        "id": "L7lYv3ofFgAZ",
        "colab_type": "text"
      },
      "source": [
        "We will use also XGBoost classifier with correction of balance between positive and negative classes, using 'scale pos_weight' argument. \n",
        "\n",
        "We won't use Standard Scaler in prepcoessing pipeline as this technique generally doesn't help in tree-based methods.\n",
        "\n",
        "Let's go straight ahead for Grid Search for few XGBoost params,such as 'scale pos_weight','colsample_bytree', 'max_depth':"
      ]
    },
    {
      "cell_type": "code",
      "metadata": {
        "id": "K6Oeff66jfG0",
        "colab_type": "code",
        "outputId": "b61e3c74-536a-4b4e-feca-92f863003ffa",
        "colab": {
          "base_uri": "https://localhost:8080/",
          "height": 54
        }
      },
      "source": [
        "grid = {'classifier__scale_pos_weight': [20, 30, 40],\n",
        "        'classifier__max_depth':[3,6,10],\n",
        "        'classifier__colsample_bytree':[0.3,0.6,0.7]\n",
        "        } \n",
        "\n",
        "\n",
        "xgb = XGBClassifier(n_estimators=150)\n",
        "clf_xgb = Pipeline(steps=[\n",
        "                 ('woe', woe), \n",
        "                 ('classifier', xgb)\n",
        "                 ]\n",
        "         )\n",
        "\n",
        "precision_recall_auc = make_scorer(average_precision_score)\n",
        "\n",
        "xgb_cv=GridSearchCV(clf_xgb,grid,cv=3,scoring=precision_recall_auc,n_jobs=-1)\n",
        "xgb_cv.fit(X_train.values, y_train.values)\n",
        "print(xgb_cv.best_params_)\n",
        "print(xgb_cv.best_score_)"
      ],
      "execution_count": 0,
      "outputs": [
        {
          "output_type": "stream",
          "text": [
            "{'classifier__colsample_bytree': 0.3, 'classifier__max_depth': 6, 'classifier__scale_pos_weight': 40}\n",
            "0.799459568417502\n"
          ],
          "name": "stdout"
        }
      ]
    },
    {
      "cell_type": "markdown",
      "metadata": {
        "id": "VjDXvWSnkA1R",
        "colab_type": "text"
      },
      "source": [
        "Let's retrain our model on best found tuned hyperparams:"
      ]
    },
    {
      "cell_type": "code",
      "metadata": {
        "id": "MhsI7m56Lp5c",
        "colab_type": "code",
        "outputId": "f7746e96-e1da-43a0-c585-1fc14078f8f8",
        "colab": {
          "base_uri": "https://localhost:8080/",
          "height": 368
        }
      },
      "source": [
        "xgb = XGBClassifier(n_estimators=150, colsample_bytree=0.3, scale_pos_weight=40, max_depth=6)\n",
        "clf_xgb = Pipeline(steps=[\n",
        "                 ('woe', woe), \n",
        "                 ('classifier', xgb)\n",
        "                 ]\n",
        "         )\n",
        "model_xgb = clf_xgb.fit(X_train.values, y_train.values)\n",
        "#check model on holdout\n",
        "show_results(model_xgb,numpy_arr=True)"
      ],
      "execution_count": 0,
      "outputs": [
        {
          "output_type": "stream",
          "text": [
            "Roc_AUC: 0.9951000789152737\n",
            "F1_Score: 0.9433962264150944\n",
            "Recall: 0.9977636973537085\n",
            "Average precision score: 0.9623700714043387\n"
          ],
          "name": "stdout"
        },
        {
          "output_type": "display_data",
          "data": {
            "image/png": "[encoded data removed]",
            "text/plain": [
              "<Figure size 432x288 with 2 Axes>"
            ]
          },
          "metadata": {
            "tags": []
          }
        }
      ]
    },
    {
      "cell_type": "markdown",
      "metadata": {
        "id": "oPKIDsDjcWPt",
        "colab_type": "text"
      },
      "source": [
        "We improved our model a lot. Let's plot named feature importances from this XGBoost model:"
      ]
    },
    {
      "cell_type": "code",
      "metadata": {
        "id": "vERHRQNogNGF",
        "colab_type": "code",
        "outputId": "7cd9b5a0-f85a-4155-8215-87fefc3b2538",
        "colab": {
          "base_uri": "https://localhost:8080/",
          "height": 320
        }
      },
      "source": [
        "from operator import itemgetter\n",
        "xgb_scores=model_xgb.named_steps['classifier'].get_booster().get_fscore()\n",
        "sort_xgb_scores = sorted(xgb_scores.items(), key=itemgetter(1),reverse=True)\n",
        "idx_top_20_features = [int(pair[0]) for pair in sort_xgb_scores[:20]]\n",
        "top_20_vals = [pair[1] for pair in sort_xgb_scores[:20]]\n",
        "x = list(reversed(X_train.columns[idx_top_features].tolist()))\n",
        "y = list(reversed(top_20_vals))\n",
        "pd.Series(data=y,index=x).plot(kind='barh')\n",
        "plt.show()"
      ],
      "execution_count": 0,
      "outputs": [
        {
          "output_type": "display_data",
          "data": {
            "image/png": "[encoded data removed]",
            "text/plain": [
              "<Figure size 720x360 with 1 Axes>"
            ]
          },
          "metadata": {
            "tags": []
          }
        }
      ]
    },
    {
      "cell_type": "markdown",
      "metadata": {
        "id": "N00oQ86MjvKR",
        "colab_type": "text"
      },
      "source": [
        "Seems like 3 categorical features are the most important for our model."
      ]
    },
    {
      "cell_type": "markdown",
      "metadata": {
        "id": "3g84CIHEj2Bu",
        "colab_type": "text"
      },
      "source": [
        "Let's try using stacking ensemble:"
      ]
    },
    {
      "cell_type": "markdown",
      "metadata": {
        "id": "Py6nKUOrwAH0",
        "colab_type": "text"
      },
      "source": [
        "### Stacking ensemble:"
      ]
    },
    {
      "cell_type": "code",
      "metadata": {
        "id": "2BZFoxW7Ke96",
        "colab_type": "code",
        "colab": {}
      },
      "source": [
        "from vecstack import stacking"
      ],
      "execution_count": 0,
      "outputs": []
    },
    {
      "cell_type": "code",
      "metadata": {
        "id": "RdcIqRupKuyb",
        "colab_type": "code",
        "colab": {}
      },
      "source": [
        "models = [\n",
        "   smoteen_pipe,clf_xgb\n",
        "]\n",
        "\n",
        "S_train, S_test = stacking(models,                                                   # list of models\n",
        "                           X_train.values, y_train.values, X_holdout.values,   # data\n",
        "                           regression=False,           # classification task (if you need \n",
        "                                                       #     regression - set to True)\n",
        "                           mode='oof_pred_bag',        # mode: oof for train set, predict test \n",
        "                                                       #     set in each fold and vote\n",
        "                           needs_proba=False,          # predict class labels (if you need \n",
        "                                                       #     probabilities - set to True) \n",
        "                           save_dir=None,              # do not save result and log (to save \n",
        "                                                       #     in current dir - set to '.')\n",
        "                           metric=average_precision_score,      # metric: callable\n",
        "                           n_folds=5,                  # number of folds\n",
        "                           stratified=True,            # stratified split for folds\n",
        "                           shuffle=True,               # shuffle the data\n",
        "                           random_state=0,             # ensure reproducibility\n",
        "                           verbose=2)   \n"
      ],
      "execution_count": 0,
      "outputs": []
    },
    {
      "cell_type": "code",
      "metadata": {
        "id": "wzCGfAlmRZbK",
        "colab_type": "code",
        "outputId": "84782744-25e8-4ebc-9c40-18cd8d801650",
        "colab": {
          "base_uri": "https://localhost:8080/",
          "height": 423
        }
      },
      "source": [
        "from sklearn.neighbors import KNeighborsClassifier\n",
        "\n",
        "# Initialize 2nd level model\n",
        "model_nn = KNeighborsClassifier(n_neighbors=5)\n",
        "\n",
        "# Fit 2nd level model\n",
        "model_nn = model_nn.fit(S_train, y_train)\n",
        "\n",
        "#show_results(model_nn)\n",
        "pred_prob = model_nn.predict_proba(S_test)[:,1]\n",
        "pred_val = model_nn.predict(S_test)\n",
        "print('Roc_AUC:',roc_auc_score(y_holdout, pred_prob))\n",
        "print('F1_Score:',f1_score(y_holdout, pred_val))\n",
        "print('Recall:',recall_score(y_holdout, pred_val,average='weighted'))\n",
        "print('Average precision score:',average_precision_score(y_holdout, pred_prob))\n",
        "#Confusion matrix\n",
        "plot_confusion_matrix(y_holdout, pred_val, normalize=True)\n",
        "plt.show()"
      ],
      "execution_count": 0,
      "outputs": [
        {
          "output_type": "stream",
          "text": [
            "Roc_AUC: 0.9701413300810675\n",
            "F1_Score: 0.9333333333333333\n",
            "Recall: 0.9973909802459933\n",
            "Average precision score: 0.8801049449754625\n"
          ],
          "name": "stdout"
        },
        {
          "output_type": "display_data",
          "data": {
            "image/png": "[encoded data removed]",
            "text/plain": [
              "<Figure size 720x360 with 2 Axes>"
            ]
          },
          "metadata": {
            "tags": []
          }
        }
      ]
    },
    {
      "cell_type": "markdown",
      "metadata": {
        "id": "ZETpgDMe6czl",
        "colab_type": "text"
      },
      "source": [
        "**Final conclusion:**\n",
        "\n",
        "It seems that stacking model doesn't work as well as tuned XGBoost classifier (SMOTEEN pipeline decreases our results) and needs some improvement. Hence, we will use single XGBoost model on our final prediction."
      ]
    },
    {
      "cell_type": "markdown",
      "metadata": {
        "id": "1CEy4Peo-pU5",
        "colab_type": "text"
      },
      "source": [
        "**Final prediction:**"
      ]
    },
    {
      "cell_type": "code",
      "metadata": {
        "id": "WamkIkeE6bwd",
        "colab_type": "code",
        "colab": {}
      },
      "source": [
        "final_test = pd.read_csv('delay_df.csv',sep='\\t')\n",
        "final_test.drop('Unnamed: 0',axis=1,inplace=True)\n",
        "#delete features with one value in train set\n",
        "final_test.drop(unit_features,axis=1,inplace=True)\n",
        "#delete id feature, as it doesn't provide us useful information for modelling (actually can casue data leakage)\n",
        "final_test.drop('id',axis=1,inplace=True)\n",
        "#deleting 80% of features, based on mask, computed earlier\n",
        "final_test = final_test[cols[:-1]]\n",
        "#imputing zeros instead of nans\n",
        "final_test.fillna(0,axis=1,inplace=True)"
      ],
      "execution_count": 0,
      "outputs": []
    },
    {
      "cell_type": "code",
      "metadata": {
        "id": "W3F8YnYI-nlQ",
        "colab_type": "code",
        "colab": {}
      },
      "source": [
        "pred_prob = model_xgb.predict_proba(final_test.values)[:,1]"
      ],
      "execution_count": 0,
      "outputs": []
    },
    {
      "cell_type": "markdown",
      "metadata": {
        "id": "nPPTME75DXty",
        "colab_type": "text"
      },
      "source": [
        "Fetching csv-file results:"
      ]
    },
    {
      "cell_type": "code",
      "metadata": {
        "id": "BHO4656_BRTL",
        "colab_type": "code",
        "colab": {}
      },
      "source": [
        "pd.DataFrame(data=pred_prob).rename(columns={0:'pred_prob'}).to_csv('pred_prob.csv')\n",
        "files.download('pred_prob.csv') "
      ],
      "execution_count": 0,
      "outputs": []
    },
    {
      "cell_type": "markdown",
      "metadata": {
        "id": "FCnwZ71aDhDY",
        "colab_type": "text"
      },
      "source": [
        "### **Possible improvement for future**:\n",
        "\n",
        "- we didn't try a bunch of algorithms (tree-bases, MLP, One-Class SVM);\n",
        "\n",
        "- we can further improve model by dealing with multicollinearity, especially for logistic regression: use few sfeature selection tchniques, including Lasso);\n",
        "\n",
        "- we can further do some hyperparameter search, using other techniques;\n",
        "\n",
        "- we can approach NaN values imputation in different mode, trying one-hot encoding;\n",
        "\n",
        "- we can transform data using other transformation techniques, like frequency encoding, binning etc."
      ]
    }
  ]
}